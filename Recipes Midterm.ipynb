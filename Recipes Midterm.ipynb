{
 "cells": [
  {
   "cell_type": "code",
   "execution_count": 59,
   "metadata": {},
   "outputs": [
    {
     "data": {
      "text/html": [
       "<script>requirejs.config({paths: { 'plotly': ['https://cdn.plot.ly/plotly-latest.min']},});if(!window.Plotly) {{require(['plotly'],function(plotly) {window.Plotly=plotly;});}}</script>"
      ],
      "text/vnd.plotly.v1+html": [
       "<script>requirejs.config({paths: { 'plotly': ['https://cdn.plot.ly/plotly-latest.min']},});if(!window.Plotly) {{require(['plotly'],function(plotly) {window.Plotly=plotly;});}}</script>"
      ]
     },
     "metadata": {},
     "output_type": "display_data"
    }
   ],
   "source": [
    "#Needed downloads & imports\n",
    "import requests\n",
    "import pandas as pd\n",
    "import matplotlib.pyplot as plt\n",
    "import plotly\n",
    "plotly.offline.init_notebook_mode(connected=True)"
   ]
  },
  {
   "cell_type": "code",
   "execution_count": 60,
   "metadata": {},
   "outputs": [
    {
     "name": "stdout",
     "output_type": "stream",
     "text": [
      "What would you like to do? \n",
      " Enter 1 to search for a recipe. \n",
      " Enter 2 to enter ingredients you want to use. \n",
      " chicken mushroom onion lemon\n"
     ]
    }
   ],
   "source": [
    "\n",
    "Question = input(\"What would you like to do? \\n Enter 1 to search for a recipe. \\n Enter 2 to enter ingredients you want to use. \\n \")\n",
    "\n",
    "url = 'http://api.yummly.com/v1/api/recipes?_app_id=353f206c&_app_key=5b0a40b55571e0fa9b9ad4f63c774efd'\n",
    "url_param1 = '&q='\n",
    "url_param2 = '&allowedIngredient[]='\n",
    "url_paramtime = '&maxTotalTimeInSeconds=3000'\n",
    "\n",
    "#Searching for recipe\n",
    "if Question == '1':\n",
    "    recipe = input('What is the recipe you want to search?')\n",
    "                   \n",
    "    response = requests.get(url + url_param1 + recipe)\n",
    "    recipe.replace(\" \", \"+\")\n",
    "    \n",
    "    print('\\n Click the link below to see all '+ recipe +' recipes from order of popularity:')\n",
    "    print('https://www.yummly.com/recipes?' + url_param1 + recipe.replace(\" \", \"+\") + '&sortBy=popular')\n",
    "    print('Rerun program to search for recipes with ingredients you want to use.')\n",
    "\n",
    "#Searching for recipes with specified ingredients\n",
    "\n",
    "elif Question == '2':   \n",
    "    i = input('What ingredients do you have? (Separate item with only spaces.) \\n ')\n",
    "    ingredients = list(map(str, i.split()))\n",
    "    \n",
    "    params2 = ''\n",
    "    for ingredient in ingredients:\n",
    "        params2 += url_param2 + ingredient\n",
    "    \n",
    "    #only show ingredients under 50 mins\n",
    "    final_params2 = url + params2 + url_paramtime\n",
    "\n",
    "    response = requests.get(final_params2)\n",
    "\n",
    "\n",
    "\n",
    "    \n",
    "    \n",
    "    "
   ]
  },
  {
   "cell_type": "code",
   "execution_count": 61,
   "metadata": {},
   "outputs": [
    {
     "name": "stdout",
     "output_type": "stream",
     "text": [
      "<RECIPE RESULTS>\n"
     ]
    },
    {
     "data": {
      "text/html": [
       "<div>\n",
       "<style scoped>\n",
       "    .dataframe tbody tr th:only-of-type {\n",
       "        vertical-align: middle;\n",
       "    }\n",
       "\n",
       "    .dataframe tbody tr th {\n",
       "        vertical-align: top;\n",
       "    }\n",
       "\n",
       "    .dataframe thead th {\n",
       "        text-align: right;\n",
       "    }\n",
       "</style>\n",
       "<table border=\"1\" class=\"dataframe\">\n",
       "  <thead>\n",
       "    <tr style=\"text-align: right;\">\n",
       "      <th></th>\n",
       "      <th>recipeName</th>\n",
       "      <th>rating</th>\n",
       "      <th>minutes</th>\n",
       "    </tr>\n",
       "  </thead>\n",
       "  <tbody>\n",
       "    <tr>\n",
       "      <th>0</th>\n",
       "      <td>Chicken Marsala recipe | Epicurious.com</td>\n",
       "      <td>3</td>\n",
       "      <td>50.0</td>\n",
       "    </tr>\n",
       "    <tr>\n",
       "      <th>1</th>\n",
       "      <td>Chicken Marsala</td>\n",
       "      <td>5</td>\n",
       "      <td>40.0</td>\n",
       "    </tr>\n",
       "    <tr>\n",
       "      <th>2</th>\n",
       "      <td>Detox Chicken Soup</td>\n",
       "      <td>4</td>\n",
       "      <td>30.0</td>\n",
       "    </tr>\n",
       "    <tr>\n",
       "      <th>3</th>\n",
       "      <td>One Pot Greek Chicken and Rice Pilaf</td>\n",
       "      <td>4</td>\n",
       "      <td>30.0</td>\n",
       "    </tr>\n",
       "    <tr>\n",
       "      <th>4</th>\n",
       "      <td>Copycat Recipe for Carrabba’s Chicken Marsala</td>\n",
       "      <td>4</td>\n",
       "      <td>30.0</td>\n",
       "    </tr>\n",
       "    <tr>\n",
       "      <th>5</th>\n",
       "      <td>Mushroom and Swiss Stuffed Chicken</td>\n",
       "      <td>4</td>\n",
       "      <td>45.0</td>\n",
       "    </tr>\n",
       "    <tr>\n",
       "      <th>6</th>\n",
       "      <td>30-Minute Pork Chops with Creamy Bourbon Mushr...</td>\n",
       "      <td>4</td>\n",
       "      <td>25.0</td>\n",
       "    </tr>\n",
       "    <tr>\n",
       "      <th>7</th>\n",
       "      <td>Creamy Mushroom Spinach Chicken</td>\n",
       "      <td>4</td>\n",
       "      <td>30.0</td>\n",
       "    </tr>\n",
       "    <tr>\n",
       "      <th>8</th>\n",
       "      <td>Leek and Mushroom Chicken Skillet</td>\n",
       "      <td>4</td>\n",
       "      <td>40.0</td>\n",
       "    </tr>\n",
       "    <tr>\n",
       "      <th>9</th>\n",
       "      <td>The BEST Chicken Fajitas</td>\n",
       "      <td>4</td>\n",
       "      <td>40.0</td>\n",
       "    </tr>\n",
       "  </tbody>\n",
       "</table>\n",
       "</div>"
      ],
      "text/plain": [
       "                                          recipeName  rating  minutes\n",
       "0            Chicken Marsala recipe | Epicurious.com       3     50.0\n",
       "1                                    Chicken Marsala       5     40.0\n",
       "2                                 Detox Chicken Soup       4     30.0\n",
       "3               One Pot Greek Chicken and Rice Pilaf       4     30.0\n",
       "4      Copycat Recipe for Carrabba’s Chicken Marsala       4     30.0\n",
       "5                 Mushroom and Swiss Stuffed Chicken       4     45.0\n",
       "6  30-Minute Pork Chops with Creamy Bourbon Mushr...       4     25.0\n",
       "7                    Creamy Mushroom Spinach Chicken       4     30.0\n",
       "8                  Leek and Mushroom Chicken Skillet       4     40.0\n",
       "9                           The BEST Chicken Fajitas       4     40.0"
      ]
     },
     "execution_count": 61,
     "metadata": {},
     "output_type": "execute_result"
    }
   ],
   "source": [
    "#show chart that shows: name, rating, time, #ofingredients\n",
    "print('<RECIPE RESULTS>')\n",
    "data = pd.DataFrame.from_dict(response.json()['matches'])\n",
    "    \n",
    "name = data['recipeName']\n",
    "rate = data['rating']\n",
    "data['minutes'] = data['totalTimeInSeconds']/60\n",
    "#QUESTION: How to make totalTimeinSeconds to minutes\n",
    "\n",
    "recipes_Data = data[['recipeName','rating','minutes']]\n",
    "data[['recipeName','rating','minutes']]"
   ]
  },
  {
   "cell_type": "code",
   "execution_count": 62,
   "metadata": {},
   "outputs": [
    {
     "name": "stdout",
     "output_type": "stream",
     "text": [
      "<RATINGS & TOTAL TIME TO MAKE>\n"
     ]
    },
    {
     "data": {
      "text/plain": [
       "<matplotlib.axes._subplots.AxesSubplot at 0x1ffe2fa31d0>"
      ]
     },
     "execution_count": 62,
     "metadata": {},
     "output_type": "execute_result"
    },
    {
     "data": {
      "image/png": "[encoded data removed]",
      "text/plain": [
       "<Figure size 432x288 with 1 Axes>"
      ]
     },
     "metadata": {},
     "output_type": "display_data"
    }
   ],
   "source": [
    "#View which has highest rating with takes the least time to make\n",
    "print('<RATINGS & TOTAL TIME TO MAKE>')\n",
    "data.groupby('recipeName').mean()[['rating','minutes']].plot(kind='barh', stacked ='True')"
   ]
  },
  {
   "cell_type": "code",
   "execution_count": 63,
   "metadata": {},
   "outputs": [
    {
     "name": "stdout",
     "output_type": "stream",
     "text": [
      "<SHOPPING LIST>\n",
      "\n",
      "\n",
      " 1 ) Chicken Marsala recipe | Epicurious.com \n",
      "\n",
      " Number total ingredients 13\n",
      " Number needed: 13 \n",
      " Stuff to buy: ['chicken broth', 'shallot', 'unsalted butter', 'mushrooms', 'chopped fresh sage', 'salt', 'black pepper', 'all purpose flour', 'skinless boneless chicken breast halves', 'extra-virgin olive oil', 'marsala wine', 'heavy cream', 'fresh lemon juice']\n",
      "\n",
      "\n",
      " 2 ) Chicken Marsala \n",
      "\n",
      " Number total ingredients 12\n",
      " Number needed: 12 \n",
      " Stuff to buy: ['oil', 'chicken breasts', 'butter', 'mushrooms', 'shallot', 'garlic', 'marsala', 'chicken broth', 'lemon juice', 'salt', 'pepper', 'parsley']\n",
      "\n",
      "\n",
      " 3 ) Detox Chicken Soup \n",
      "\n",
      " Number total ingredients 19\n",
      " Number needed: 17 \n",
      " Stuff to buy: ['olive oil', 'skinless chicken breasts', 'kosher salt', 'freshly ground black pepper', 'carrots', 'celery', 'garlic', 'cremini mushrooms', 'dried thyme', 'dried oregano', 'chicken stock', 'bay leaves', 'orzo pasta', 'rosemary', 'kale', 'cannellini beans', 'fresh parsley leaves']\n",
      "\n",
      "\n",
      " 4 ) One Pot Greek Chicken and Rice Pilaf \n",
      "\n",
      " Number total ingredients 30\n",
      " Number needed: 29 \n",
      " Stuff to buy: ['skinless chicken breasts', 'olive oil', 'red wine vinegar', 'minced garlic', 'salt', 'black pepper', 'red pepper flakes', 'fresh oregano', 'butter', 'parboiled rice', 'chicken broth', 'lemon juice', 'chopped parsley', 'boneless, skinless chicken breasts', 'pepper', 'dried thyme', 'mushrooms', 'shallots', 'heavy cream', 'chicken pieces', 'lemon zest', 'orange zest', 'orange juice', 'lime zest', 'lime juice', 'sugar', 'brussel sprouts', 'sweet potatoes', 'salted butter']\n",
      "\n",
      "\n",
      " 5 ) Copycat Recipe for Carrabba’s Chicken Marsala \n",
      "\n",
      " Number total ingredients 7\n",
      " Number needed: 6 \n",
      " Stuff to buy: ['butter', 'chicken breast halves', 'shallots', 'marsala', 'heavy cream', 'lemon juice']\n",
      "\n",
      "\n",
      " 6 ) Mushroom and Swiss Stuffed Chicken \n",
      "\n",
      " Number total ingredients 16\n",
      " Number needed: 16 \n",
      " Stuff to buy: ['chicken breasts', 'marinade', 'mushrooms', 'minced garlic', 'white onion', 'salt', 'pepper', 'swiss cheese', 'fresh tarragon', 'lemons', 'italian seasoning', 'brown sugar', 'vinegar', 'worcestershire sauce', 'dijon mustard', 'olive oil']\n",
      "\n",
      "\n",
      " 7 ) 30-Minute Pork Chops with Creamy Bourbon Mushroom Sauce \n",
      "\n",
      " Number total ingredients 14\n",
      " Number needed: 14 \n",
      " Stuff to buy: ['extra virgin olive oil', 'pork loin chops', 'flour', 'salt', 'black pepper', 'mushrooms', 'shallot', 'garlic', 'bourbon', 'low sodium chicken stock', 'fresh lemon juice', 'heavy cream', 'cornstarch', 'rice']\n",
      "\n",
      "\n",
      " 8 ) Creamy Mushroom Spinach Chicken \n",
      "\n",
      " Number total ingredients 11\n",
      " Number needed: 11 \n",
      " Stuff to buy: ['boneless chicken breast', 'all purpose flour', 'salt', 'olive oil', 'baby bella mushrooms', 'shallot', 'baby spinach', 'fresh parsley', 'chicken broth', 'heavy cream', 'fresh lemon juice']\n",
      "\n",
      "\n",
      " 9 ) Leek and Mushroom Chicken Skillet \n",
      "\n",
      " Number total ingredients 13\n",
      " Number needed: 12 \n",
      " Stuff to buy: ['chicken breasts', 'gluten', 'salt', 'pepper', 'butter', 'extra-virgin olive oil', 'sliced mushrooms', 'leeks', 'shallot', 'garlic clove', 'chicken broth', 'fresh tarragon']\n",
      "\n",
      "\n",
      " 10 ) The BEST Chicken Fajitas \n",
      "\n",
      " Number total ingredients 10\n",
      " Number needed: 9 \n",
      " Stuff to buy: ['chicken breasts', 'bell peppers', 'sweet onion', 'mushrooms', 'cooking oil', 'gluten', 'seasoned salt', 'cumin', 'smoked paprika']\n"
     ]
    }
   ],
   "source": [
    "#Find how many more and which ingredients you need to buy\n",
    "\n",
    "print('<SHOPPING LIST>')\n",
    "\n",
    "for n, match in enumerate(response.json()['matches']):\n",
    "    #Each match is a recipe dictionary\n",
    "    recipe_ingredients = match['ingredients']\n",
    "    needed = [item for item in recipe_ingredients if item not in ingredients]\n",
    "    name = match['recipeName']\n",
    "    print('\\n\\n',n+1, ')', name,'\\n\\n Number total ingredients', len(recipe_ingredients))\n",
    "    print(' Number needed:', len(needed), '\\n Stuff to buy:', needed)\n",
    "    "
   ]
  },
  {
   "cell_type": "code",
   "execution_count": 64,
   "metadata": {},
   "outputs": [
    {
     "name": "stdout",
     "output_type": "stream",
     "text": [
      "<FLAVOR ANALYSIS OF RECIPES>\n",
      "1 ) Chicken Marsala recipe | Epicurious.com\n",
      "Data with flavors not available for this recipe\n",
      "\n",
      "\n",
      "2 ) Chicken Marsala\n"
     ]
    },
    {
     "data": {
      "image/png": "[encoded data removed]",
      "text/plain": [
       "<Figure size 432x288 with 1 Axes>"
      ]
     },
     "metadata": {},
     "output_type": "display_data"
    },
    {
     "name": "stdout",
     "output_type": "stream",
     "text": [
      "3 ) Detox Chicken Soup\n"
     ]
    },
    {
     "data": {
      "image/png": "[encoded data removed]",
      "text/plain": [
       "<Figure size 432x288 with 1 Axes>"
      ]
     },
     "metadata": {},
     "output_type": "display_data"
    },
    {
     "name": "stdout",
     "output_type": "stream",
     "text": [
      "4 ) One Pot Greek Chicken and Rice Pilaf\n"
     ]
    },
    {
     "data": {
      "image/png": "[encoded data removed]",
      "text/plain": [
       "<Figure size 432x288 with 1 Axes>"
      ]
     },
     "metadata": {},
     "output_type": "display_data"
    },
    {
     "name": "stdout",
     "output_type": "stream",
     "text": [
      "5 ) Copycat Recipe for Carrabba’s Chicken Marsala\n"
     ]
    },
    {
     "data": {
      "image/png": "[encoded data removed]",
      "text/plain": [
       "<Figure size 432x288 with 1 Axes>"
      ]
     },
     "metadata": {},
     "output_type": "display_data"
    },
    {
     "name": "stdout",
     "output_type": "stream",
     "text": [
      "6 ) Mushroom and Swiss Stuffed Chicken\n"
     ]
    },
    {
     "data": {
      "image/png": "[encoded data removed]",
      "text/plain": [
       "<Figure size 432x288 with 1 Axes>"
      ]
     },
     "metadata": {},
     "output_type": "display_data"
    },
    {
     "name": "stdout",
     "output_type": "stream",
     "text": [
      "7 ) 30-Minute Pork Chops with Creamy Bourbon Mushroom Sauce\n"
     ]
    },
    {
     "data": {
      "image/png": "[encoded data removed]",
      "text/plain": [
       "<Figure size 432x288 with 1 Axes>"
      ]
     },
     "metadata": {},
     "output_type": "display_data"
    },
    {
     "name": "stdout",
     "output_type": "stream",
     "text": [
      "8 ) Creamy Mushroom Spinach Chicken\n"
     ]
    },
    {
     "data": {
      "image/png": "[encoded data removed]",
      "text/plain": [
       "<Figure size 432x288 with 1 Axes>"
      ]
     },
     "metadata": {},
     "output_type": "display_data"
    },
    {
     "name": "stdout",
     "output_type": "stream",
     "text": [
      "9 ) Leek and Mushroom Chicken Skillet\n"
     ]
    },
    {
     "data": {
      "image/png": "[encoded data removed]",
      "text/plain": [
       "<Figure size 432x288 with 1 Axes>"
      ]
     },
     "metadata": {},
     "output_type": "display_data"
    },
    {
     "name": "stdout",
     "output_type": "stream",
     "text": [
      "10 ) The BEST Chicken Fajitas\n"
     ]
    },
    {
     "data": {
      "image/png": "[encoded data removed]",
      "text/plain": [
       "<Figure size 432x288 with 1 Axes>"
      ]
     },
     "metadata": {},
     "output_type": "display_data"
    }
   ],
   "source": [
    "#Print Bar Graph of Flavors for each ingredient\n",
    "\n",
    "print('<FLAVOR ANALYSIS OF RECIPES>')\n",
    "\n",
    "for n, match in enumerate(response.json()['matches']):\n",
    "    flavors = match['flavors']\n",
    "    name = match['recipeName']\n",
    "    try:\n",
    "    \n",
    "        print(n+1,')', name)\n",
    "        recipe_flavors = match['flavors']\n",
    "        flavor = list(recipe_flavors.keys())\n",
    "        values = list(recipe_flavors.values())\n",
    "\n",
    "        #tick_label does the some work as plt.xticks()\n",
    "        plt.bar(range(len(recipe_flavors)),values,tick_label=flavor)\n",
    "        plt.savefig('bar.png')\n",
    "        plt.show()\n",
    "    \n",
    "\n",
    "    except Exception as e:\n",
    "        print('Data with flavors not available for this recipe')\n",
    "        print('\\n')"
   ]
  },
  {
   "cell_type": "code",
   "execution_count": 65,
   "metadata": {},
   "outputs": [
    {
     "name": "stdout",
     "output_type": "stream",
     "text": [
      "1 Chicken Marsala recipe | Epicurious.com\n",
      "2 Chicken Marsala\n",
      "3 Detox Chicken Soup\n",
      "4 One Pot Greek Chicken and Rice Pilaf\n",
      "5 Copycat Recipe for Carrabba’s Chicken Marsala\n",
      "6 Mushroom and Swiss Stuffed Chicken\n",
      "7 30-Minute Pork Chops with Creamy Bourbon Mushroom Sauce\n",
      "8 Creamy Mushroom Spinach Chicken\n",
      "9 Leek and Mushroom Chicken Skillet\n",
      "10 The BEST Chicken Fajitas\n",
      "Enter the recipe number of your choice: 2\n",
      "\n",
      "\n",
      "\n",
      "Recipe Name:\n",
      "Chicken Marsala\n",
      "\n",
      "Recipes Needed:\n",
      "['oil', 'chicken breasts', 'butter', 'mushrooms', 'shallot', 'garlic', 'marsala', 'chicken broth', 'lemon juice', 'salt', 'pepper', 'parsley']\n",
      "\n",
      "Rating:\n",
      "5\n",
      "\n",
      "Total Time in Minutes:\n",
      "40.0\n",
      "\n",
      "Url for picture:\n",
      "['http://lh6.ggpht.com/R02TxD9XLTVzrNDn2_QXqNe6Yyo3iO-IOl7f9RTFVEl9NK8b6Bj7XmlqSIEM0w34BQxA5bVLX_UFr4Y5tMtl=s90']\n"
     ]
    }
   ],
   "source": [
    "\n",
    "for n, match in enumerate(response.json()['matches']):\n",
    "    print(n+1,match['recipeName']) \n",
    "\n",
    "number = input('Enter the recipe number of your choice: ') \n",
    "\n",
    "newnumber = int(number) - 1\n",
    "\n",
    "print ('\\n\\n')\n",
    "print('Recipe Name:') \n",
    "print(data['recipeName'][newnumber])\n",
    "print('\\nRecipes Needed:') \n",
    "print(data['ingredients'][newnumber])\n",
    "print('\\nRating:') \n",
    "print(data['rating'][newnumber])\n",
    "print('\\nTotal Time in Minutes:')\n",
    "print(data['minutes'][newnumber])\n",
    "print('\\nUrl for picture:')\n",
    "print(data['smallImageUrls'][newnumber])\n",
    "\n",
    "   "
   ]
  },
  {
   "cell_type": "code",
   "execution_count": null,
   "metadata": {},
   "outputs": [],
   "source": []
  }
 ],
 "metadata": {
  "kernelspec": {
   "display_name": "Python 3",
   "language": "python",
   "name": "python3"
  },
  "language_info": {
   "codemirror_mode": {
    "name": "ipython",
    "version": 3
   },
   "file_extension": ".py",
   "mimetype": "text/x-python",
   "name": "python",
   "nbconvert_exporter": "python",
   "pygments_lexer": "ipython3",
   "version": "3.6.4"
  }
 },
 "nbformat": 4,
 "nbformat_minor": 2
}
